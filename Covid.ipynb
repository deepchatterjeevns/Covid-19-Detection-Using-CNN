{
 "cells": [
  {
   "cell_type": "code",
   "execution_count": 3,
   "metadata": {
    "colab": {
     "base_uri": "https://localhost:8080/",
     "height": 34
    },
    "colab_type": "code",
    "id": "__ORAPrBAp3V",
    "outputId": "92d77bf1-21fe-42c3-f6f4-a0249f7ff951"
   },
   "outputs": [
    {
     "name": "stderr",
     "output_type": "stream",
     "text": [
      "Using TensorFlow backend.\n"
     ]
    }
   ],
   "source": [
    "import numpy as np\n",
    "import matplotlib.pyplot as plt\n",
    "import keras\n",
    "from keras.layers import *\n",
    "from keras.models import *\n",
    "from keras.preprocessing import image\n"
   ]
  },
  {
   "cell_type": "code",
   "execution_count": 0,
   "metadata": {
    "colab": {},
    "colab_type": "code",
    "id": "k9V68NqtAtQd"
   },
   "outputs": [],
   "source": [
    "TRAIN_PATH=\"CovidDataset/Train\"\n",
    "VAL_PATH=\"CovidDataset/Val\"\n"
   ]
  },
  {
   "cell_type": "code",
   "execution_count": 0,
   "metadata": {
    "colab": {},
    "colab_type": "code",
    "id": "tGH9ehY3Avcx"
   },
   "outputs": [],
   "source": [
    "model=Sequential()\n",
    "model.add(Conv2D(32,kernel_size=(3,3),activation=\"relu\",input_shape=(224,224,3)))\n",
    "model.add(Conv2D(64,(3,3),activation=\"relu\"))\n",
    "model.add(MaxPooling2D(pool_size=(2,2)))\n",
    "model.add(Dropout(0.25))\n",
    "\n",
    "\n",
    "model.add(Conv2D(64,(3,3),activation=\"relu\"))\n",
    "model.add(MaxPooling2D(pool_size=(2,2)))\n",
    "model.add(Dropout(0.25))\n",
    "\n",
    "model.add(Conv2D(128,(3,3),activation=\"relu\"))\n",
    "model.add(MaxPooling2D(pool_size=(2,2)))\n",
    "model.add(Dropout(0.25))\n",
    "\n",
    "model.add(Flatten())\n",
    "model.add(Dense(64,activation=\"relu\"))\n",
    "model.add(Dropout(0.25))\n",
    "model.add(Dense(1,activation=\"sigmoid\"))\n",
    "\n",
    "model.compile(loss=keras.losses.binary_crossentropy,optimizer=\"adam\",metrics=['accuracy'])\n",
    "\n",
    "\n"
   ]
  },
  {
   "cell_type": "code",
   "execution_count": 6,
   "metadata": {
    "colab": {
     "base_uri": "https://localhost:8080/",
     "height": 622
    },
    "colab_type": "code",
    "id": "wj5a_5Z5Axsy",
    "outputId": "b804137c-0533-409c-b103-6c64bfa6e5e8"
   },
   "outputs": [
    {
     "name": "stdout",
     "output_type": "stream",
     "text": [
      "Model: \"sequential_1\"\n",
      "_________________________________________________________________\n",
      "Layer (type)                 Output Shape              Param #   \n",
      "=================================================================\n",
      "conv2d_1 (Conv2D)            (None, 222, 222, 32)      896       \n",
      "_________________________________________________________________\n",
      "conv2d_2 (Conv2D)            (None, 220, 220, 64)      18496     \n",
      "_________________________________________________________________\n",
      "max_pooling2d_1 (MaxPooling2 (None, 110, 110, 64)      0         \n",
      "_________________________________________________________________\n",
      "dropout_1 (Dropout)          (None, 110, 110, 64)      0         \n",
      "_________________________________________________________________\n",
      "conv2d_3 (Conv2D)            (None, 108, 108, 64)      36928     \n",
      "_________________________________________________________________\n",
      "max_pooling2d_2 (MaxPooling2 (None, 54, 54, 64)        0         \n",
      "_________________________________________________________________\n",
      "dropout_2 (Dropout)          (None, 54, 54, 64)        0         \n",
      "_________________________________________________________________\n",
      "conv2d_4 (Conv2D)            (None, 52, 52, 128)       73856     \n",
      "_________________________________________________________________\n",
      "max_pooling2d_3 (MaxPooling2 (None, 26, 26, 128)       0         \n",
      "_________________________________________________________________\n",
      "dropout_3 (Dropout)          (None, 26, 26, 128)       0         \n",
      "_________________________________________________________________\n",
      "flatten_1 (Flatten)          (None, 86528)             0         \n",
      "_________________________________________________________________\n",
      "dense_1 (Dense)              (None, 64)                5537856   \n",
      "_________________________________________________________________\n",
      "dropout_4 (Dropout)          (None, 64)                0         \n",
      "_________________________________________________________________\n",
      "dense_2 (Dense)              (None, 1)                 65        \n",
      "=================================================================\n",
      "Total params: 5,668,097\n",
      "Trainable params: 5,668,097\n",
      "Non-trainable params: 0\n",
      "_________________________________________________________________\n"
     ]
    }
   ],
   "source": [
    "model.summary()"
   ]
  },
  {
   "cell_type": "code",
   "execution_count": 0,
   "metadata": {
    "colab": {},
    "colab_type": "code",
    "id": "JEaFJMgyA4WT"
   },
   "outputs": [],
   "source": [
    "train_datagen=image.ImageDataGenerator(\n",
    "rescale=1/255,\n",
    "    shear_range=0.2,\n",
    "    zoom_range=0.2,\n",
    "    horizontal_flip=True,\n",
    ")\n",
    "test_datagen=image.ImageDataGenerator(rescale=1/255)"
   ]
  },
  {
   "cell_type": "code",
   "execution_count": 8,
   "metadata": {
    "colab": {
     "base_uri": "https://localhost:8080/",
     "height": 34
    },
    "colab_type": "code",
    "id": "kwOs9GW2A8Xt",
    "outputId": "c4c1e667-46bc-4bee-9935-c3e6dfc94f41"
   },
   "outputs": [
    {
     "name": "stdout",
     "output_type": "stream",
     "text": [
      "Found 224 images belonging to 2 classes.\n"
     ]
    }
   ],
   "source": [
    "train_generator=train_datagen.flow_from_directory(\n",
    "    'CovidDataset/Train',\n",
    "    target_size=(224,224),\n",
    "    batch_size=32,\n",
    "    class_mode='binary'\n",
    "    \n",
    "    \n",
    "\n",
    ")"
   ]
  },
  {
   "cell_type": "code",
   "execution_count": 9,
   "metadata": {
    "colab": {
     "base_uri": "https://localhost:8080/",
     "height": 34
    },
    "colab_type": "code",
    "id": "foT9qlChA92n",
    "outputId": "95c2362d-91f7-40a6-db8d-a93ae9258c6e"
   },
   "outputs": [
    {
     "data": {
      "text/plain": [
       "{'Covid': 0, 'Normal': 1}"
      ]
     },
     "execution_count": 9,
     "metadata": {
      "tags": []
     },
     "output_type": "execute_result"
    }
   ],
   "source": [
    "train_generator.class_indices"
   ]
  },
  {
   "cell_type": "code",
   "execution_count": 10,
   "metadata": {
    "colab": {
     "base_uri": "https://localhost:8080/",
     "height": 34
    },
    "colab_type": "code",
    "id": "eWIkOO3RBBIZ",
    "outputId": "934d80e0-08a6-4c7a-ea5b-f386c5fe4d86"
   },
   "outputs": [
    {
     "name": "stdout",
     "output_type": "stream",
     "text": [
      "Found 60 images belonging to 2 classes.\n"
     ]
    }
   ],
   "source": [
    "validation_datagenerator=test_datagen.flow_from_directory(\n",
    "    \n",
    "    'CovidDataset/Val',\n",
    "    target_size=(224,224),\n",
    "    batch_size=32,\n",
    "    class_mode='binary'\n",
    "    \n",
    "\n",
    ")"
   ]
  },
  {
   "cell_type": "code",
   "execution_count": 11,
   "metadata": {
    "colab": {
     "base_uri": "https://localhost:8080/",
     "height": 353
    },
    "colab_type": "code",
    "id": "qynYQQnLBEVC",
    "outputId": "711844e7-9fa1-434a-9889-ac5089c1c3c2"
   },
   "outputs": [
    {
     "name": "stdout",
     "output_type": "stream",
     "text": [
      "Epoch 1/10\n",
      "8/8 [==============================] - 11s 1s/step - loss: 1.2927 - accuracy: 0.5586 - val_loss: 0.6838 - val_accuracy: 0.8833\n",
      "Epoch 2/10\n",
      "8/8 [==============================] - 9s 1s/step - loss: 0.5447 - accuracy: 0.7812 - val_loss: 0.3479 - val_accuracy: 0.9333\n",
      "Epoch 3/10\n",
      "8/8 [==============================] - 9s 1s/step - loss: 0.2620 - accuracy: 0.8906 - val_loss: 0.1081 - val_accuracy: 0.9500\n",
      "Epoch 4/10\n",
      "8/8 [==============================] - 9s 1s/step - loss: 0.4052 - accuracy: 0.8203 - val_loss: 0.3567 - val_accuracy: 0.9667\n",
      "Epoch 5/10\n",
      "8/8 [==============================] - 9s 1s/step - loss: 0.2453 - accuracy: 0.8867 - val_loss: 0.1268 - val_accuracy: 0.9667\n",
      "Epoch 6/10\n",
      "8/8 [==============================] - 9s 1s/step - loss: 0.2302 - accuracy: 0.9102 - val_loss: 0.1747 - val_accuracy: 0.9833\n",
      "Epoch 7/10\n",
      "8/8 [==============================] - 9s 1s/step - loss: 0.1656 - accuracy: 0.9375 - val_loss: 0.1244 - val_accuracy: 0.9000\n",
      "Epoch 8/10\n",
      "8/8 [==============================] - 9s 1s/step - loss: 0.1476 - accuracy: 0.9570 - val_loss: 0.1131 - val_accuracy: 0.9833\n",
      "Epoch 9/10\n",
      "8/8 [==============================] - 9s 1s/step - loss: 0.0961 - accuracy: 0.9570 - val_loss: 0.1841 - val_accuracy: 0.9333\n",
      "Epoch 10/10\n",
      "8/8 [==============================] - 9s 1s/step - loss: 0.1383 - accuracy: 0.9648 - val_loss: 0.1488 - val_accuracy: 0.9667\n"
     ]
    }
   ],
   "source": [
    "hist=model.fit_generator(\n",
    "    train_generator,\n",
    "    steps_per_epoch=8,\n",
    "    epochs=10,\n",
    "    validation_data=validation_datagenerator,\n",
    "    \n",
    "    validation_steps=2\n",
    "\n",
    ")"
   ]
  },
  {
   "cell_type": "code",
   "execution_count": 12,
   "metadata": {
    "colab": {
     "base_uri": "https://localhost:8080/",
     "height": 689
    },
    "colab_type": "code",
    "id": "KJBbqLSHMmYb",
    "outputId": "47e67786-155e-4fbe-9c32-0685f2e8d6b6"
   },
   "outputs": [
    {
     "data": {
      "text/plain": [
       "{'accuracy': [0.55859375,\n",
       "  0.78125,\n",
       "  0.890625,\n",
       "  0.8203125,\n",
       "  0.88671875,\n",
       "  0.91015625,\n",
       "  0.9375,\n",
       "  0.95703125,\n",
       "  0.95703125,\n",
       "  0.96484375],\n",
       " 'loss': [1.2927218303084373,\n",
       "  0.5446964390575886,\n",
       "  0.2619687393307686,\n",
       "  0.40523772314190865,\n",
       "  0.24532767571508884,\n",
       "  0.23017252422869205,\n",
       "  0.16557005885988474,\n",
       "  0.14755679434165359,\n",
       "  0.0960943060927093,\n",
       "  0.13825423270463943],\n",
       " 'val_accuracy': [0.8833333253860474,\n",
       "  0.9333333373069763,\n",
       "  0.949999988079071,\n",
       "  0.9666666388511658,\n",
       "  0.9666666388511658,\n",
       "  0.9833333492279053,\n",
       "  0.8999999761581421,\n",
       "  0.9833333492279053,\n",
       "  0.9333333373069763,\n",
       "  0.9666666388511658],\n",
       " 'val_loss': [0.6837853789329529,\n",
       "  0.34790855646133423,\n",
       "  0.10810450464487076,\n",
       "  0.3566998839378357,\n",
       "  0.12683351337909698,\n",
       "  0.17474006116390228,\n",
       "  0.1243748590350151,\n",
       "  0.11307082325220108,\n",
       "  0.18410484492778778,\n",
       "  0.14878591895103455]}"
      ]
     },
     "execution_count": 12,
     "metadata": {
      "tags": []
     },
     "output_type": "execute_result"
    }
   ],
   "source": [
    "hist.history"
   ]
  },
  {
   "cell_type": "code",
   "execution_count": 13,
   "metadata": {
    "colab": {
     "base_uri": "https://localhost:8080/",
     "height": 279
    },
    "colab_type": "code",
    "id": "FA8pq2aeBbA0",
    "outputId": "0837e9f3-e0c7-4fad-9ac5-cf658ea4a16e"
   },
   "outputs": [
    {
     "data": {
      "image/png": "[encoded data removed]",
      "text/plain": [
       "<Figure size 432x288 with 1 Axes>"
      ]
     },
     "metadata": {
      "needs_background": "light",
      "tags": []
     },
     "output_type": "display_data"
    }
   ],
   "source": [
    "def plt_dynamic(x, vy, ty, ax, colors=['b']):\n",
    "    ax.plot(x, vy, 'b', label=\"Validation Loss\")\n",
    "    ax.plot(x, ty, 'r', label=\"Train Loss\")\n",
    "    plt.legend()\n",
    "    plt.grid()\n",
    "    fig.canvas.draw()\n",
    "fig,ax = plt.subplots(1,1)\n",
    "ax.set_xlabel('epoch') ; ax.set_ylabel('Loss')\n",
    "\n",
    "# list of epoch numbers\n",
    "x = list(range(1,11))\n",
    "\n",
    "# print(history.history.keys())\n",
    "# dict_keys(['val_loss', 'val_acc', 'loss', 'acc'])\n",
    "# history = model_drop.fit(X_train, Y_train, batch_size=batch_size, epochs=nb_epoch, verbose=1, validation_data=(X_test, Y_test))\n",
    "\n",
    "# we will get val_loss and val_acc only when you pass the paramter validation_data\n",
    "# val_loss : validation loss\n",
    "# val_acc : validation accuracy\n",
    "\n",
    "# loss : training loss\n",
    "# acc : train accuracy\n",
    "# for each key in histrory.histrory we will have a list of length equal to number of epochs\n",
    "\n",
    "vy = hist.history['val_loss']\n",
    "ty = hist.history['loss']\n",
    "plt_dynamic(x, vy, ty, ax)"
   ]
  },
  {
   "cell_type": "code",
   "execution_count": 0,
   "metadata": {
    "colab": {},
    "colab_type": "code",
    "id": "BGZPAcc2B7ca"
   },
   "outputs": [],
   "source": [
    "model.save(\"model_adv.h5\")"
   ]
  },
  {
   "cell_type": "code",
   "execution_count": 15,
   "metadata": {
    "colab": {
     "base_uri": "https://localhost:8080/",
     "height": 34
    },
    "colab_type": "code",
    "id": "s5ktP9wvNU5t",
    "outputId": "c0502b41-1e0d-4fc2-c291-c2f9ed30e1f7"
   },
   "outputs": [
    {
     "data": {
      "text/plain": [
       "[0.05738232657313347, 0.9776785969734192]"
      ]
     },
     "execution_count": 15,
     "metadata": {
      "tags": []
     },
     "output_type": "execute_result"
    }
   ],
   "source": [
    "model.evaluate_generator(train_generator)"
   ]
  },
  {
   "cell_type": "code",
   "execution_count": 17,
   "metadata": {
    "colab": {
     "base_uri": "https://localhost:8080/",
     "height": 34
    },
    "colab_type": "code",
    "id": "ntsokRTnNcWh",
    "outputId": "3e231cb6-2049-46f1-a4f8-947aacf71484"
   },
   "outputs": [
    {
     "data": {
      "text/plain": [
       "[0.016145190224051476, 0.9666666388511658]"
      ]
     },
     "execution_count": 17,
     "metadata": {
      "tags": []
     },
     "output_type": "execute_result"
    }
   ],
   "source": [
    "model.evaluate_generator(validation_datagenerator)"
   ]
  },
  {
   "cell_type": "code",
   "execution_count": 0,
   "metadata": {
    "colab": {},
    "colab_type": "code",
    "id": "TEDOUrHVNlkp"
   },
   "outputs": [],
   "source": [
    "## Confusion Metrics"
   ]
  },
  {
   "cell_type": "code",
   "execution_count": 0,
   "metadata": {
    "colab": {},
    "colab_type": "code",
    "id": "64-wbjEyOfip"
   },
   "outputs": [],
   "source": [
    "model=load_model(\"model_adv.h5\")\n",
    "y_actual=[]\n",
    "y_test=[]\n"
   ]
  },
  {
   "cell_type": "code",
   "execution_count": 0,
   "metadata": {
    "colab": {},
    "colab_type": "code",
    "id": "JF4hOZglO5mS"
   },
   "outputs": [],
   "source": [
    "normal=0\n",
    "import os\n",
    "for i in os.listdir(\"./CovidDataset/Val/Normal/\"):\n",
    "  normal +=1\n",
    "  \n",
    "  img=image.load_img(\"./CovidDataset/Val/Normal/\"+i,target_size=(224,224))\n",
    "  img=image.img_to_array(img)\n",
    "  img=np.expand_dims(img,axis=0)\n",
    "  p=model.predict_classes(img)\n",
    "  y_test.append(p[0,0])\n",
    "  y_actual.append(1)"
   ]
  },
  {
   "cell_type": "code",
   "execution_count": 44,
   "metadata": {
    "colab": {
     "base_uri": "https://localhost:8080/",
     "height": 34
    },
    "colab_type": "code",
    "id": "otYLdg1MP-wa",
    "outputId": "dd1e8757-6c20-416e-e4d8-af1e7c9983a3"
   },
   "outputs": [
    {
     "data": {
      "text/plain": [
       "30"
      ]
     },
     "execution_count": 44,
     "metadata": {
      "tags": []
     },
     "output_type": "execute_result"
    }
   ],
   "source": [
    "len(y_actual)"
   ]
  },
  {
   "cell_type": "code",
   "execution_count": 0,
   "metadata": {
    "colab": {},
    "colab_type": "code",
    "id": "-TwEq2ImQE20"
   },
   "outputs": [],
   "source": [
    "covid=0\n",
    "import os\n",
    "for i in os.listdir(\"./CovidDataset/Val/Covid/\"):\n",
    "  covid +=1\n",
    "  img=image.load_img(\"./CovidDataset/Val/Covid/\"+i,target_size=(224,224))\n",
    "  img=image.img_to_array(img)\n",
    "  img=np.expand_dims(img,axis=0)\n",
    "  p=model.predict_classes(img)\n",
    "  y_test.append(p[0,0])\n",
    "  y_actual.append(0)"
   ]
  },
  {
   "cell_type": "code",
   "execution_count": 41,
   "metadata": {
    "colab": {
     "base_uri": "https://localhost:8080/",
     "height": 34
    },
    "colab_type": "code",
    "id": "zk7YuE_oQGEv",
    "outputId": "c59c4570-5b50-4f8c-a7f5-f106fc8047ee"
   },
   "outputs": [
    {
     "data": {
      "text/plain": [
       "(30, 30)"
      ]
     },
     "execution_count": 41,
     "metadata": {
      "tags": []
     },
     "output_type": "execute_result"
    }
   ],
   "source": [
    "normal,covid"
   ]
  },
  {
   "cell_type": "code",
   "execution_count": 0,
   "metadata": {
    "colab": {},
    "colab_type": "code",
    "id": "gnBs1RIiQtJ1"
   },
   "outputs": [],
   "source": [
    "y_actual=np.array(y_actual)\n",
    "y_test=np.array(y_test)\n"
   ]
  },
  {
   "cell_type": "code",
   "execution_count": 0,
   "metadata": {
    "colab": {},
    "colab_type": "code",
    "id": "ynlHEDQ7QwQc"
   },
   "outputs": [],
   "source": [
    "from sklearn.metrics import confusion_matrix"
   ]
  },
  {
   "cell_type": "code",
   "execution_count": 0,
   "metadata": {
    "colab": {},
    "colab_type": "code",
    "id": "LXlPSZYKRs-K"
   },
   "outputs": [],
   "source": [
    "cm=confusion_matrix(y_actual,y_test)"
   ]
  },
  {
   "cell_type": "code",
   "execution_count": 49,
   "metadata": {
    "colab": {
     "base_uri": "https://localhost:8080/",
     "height": 339
    },
    "colab_type": "code",
    "id": "PDl6d2TtRx2-",
    "outputId": "7e885333-66f0-46f6-ae5f-fabcf847d2e7"
   },
   "outputs": [
    {
     "name": "stderr",
     "output_type": "stream",
     "text": [
      "/usr/local/lib/python3.6/dist-packages/statsmodels/tools/_testing.py:19: FutureWarning: pandas.util.testing is deprecated. Use the functions in the public API at pandas.testing instead.\n",
      "  import pandas.util.testing as tm\n"
     ]
    },
    {
     "data": {
      "text/plain": [
       "<matplotlib.axes._subplots.AxesSubplot at 0x7fe43fb518d0>"
      ]
     },
     "execution_count": 49,
     "metadata": {
      "tags": []
     },
     "output_type": "execute_result"
    },
    {
     "data": {
      "image/png": "[encoded data removed]",
      "text/plain": [
       "<Figure size 432x288 with 2 Axes>"
      ]
     },
     "metadata": {
      "needs_background": "light",
      "tags": []
     },
     "output_type": "display_data"
    }
   ],
   "source": [
    "import seaborn as sns\n",
    "sns.heatmap(cm,cmap=\"plasma\",annot=True)"
   ]
  },
  {
   "cell_type": "code",
   "execution_count": 1,
   "metadata": {
    "colab": {},
    "colab_type": "code",
    "id": "RAHwzLZ_R6bN"
   },
   "outputs": [],
   "source": [
    "## Out of 30 Covid Patient Model Has Predicted All Covid PAtient. And 2 Patient Who dont Have Covid Have also Being Detected\n",
    "## as Covid Positive."
   ]
  },
  {
   "cell_type": "code",
   "execution_count": null,
   "metadata": {},
   "outputs": [],
   "source": []
  }
 ],
 "metadata": {
  "accelerator": "GPU",
  "colab": {
   "name": "Covid",
   "provenance": []
  },
  "kernelspec": {
   "display_name": "Python 3",
   "language": "python",
   "name": "python3"
  },
  "language_info": {
   "codemirror_mode": {
    "name": "ipython",
    "version": 3
   },
   "file_extension": ".py",
   "mimetype": "text/x-python",
   "name": "python",
   "nbconvert_exporter": "python",
   "pygments_lexer": "ipython3",
   "version": "3.7.4"
  }
 },
 "nbformat": 4,
 "nbformat_minor": 1
}
